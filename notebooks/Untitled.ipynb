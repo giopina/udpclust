{
 "cells": [
  {
   "cell_type": "code",
   "execution_count": 1,
   "metadata": {
    "collapsed": true
   },
   "outputs": [],
   "source": [
    "import numpy as np\n",
    "import matplotlib.pyplot as plt\n",
    "%matplotlib inline"
   ]
  },
  {
   "cell_type": "code",
   "execution_count": 2,
   "metadata": {},
   "outputs": [],
   "source": [
    "from udpclust.UDP_modules import dp_clustering as fdp\n",
    "from udpclust import UDPClust as dp"
   ]
  },
  {
   "cell_type": "code",
   "execution_count": 3,
   "metadata": {
    "collapsed": true
   },
   "outputs": [],
   "source": [
    "fname=\"../test/DATA/traj-d.dat\"\n",
    "dim=6"
   ]
  },
  {
   "cell_type": "code",
   "execution_count": 4,
   "metadata": {},
   "outputs": [
    {
     "name": "stdout",
     "output_type": "stream",
     "text": [
      "shape of input array = (5096, 23)\n"
     ]
    }
   ],
   "source": [
    "traj=[]\n",
    "for line in open(fname,'r'):\n",
    "    traj.append([float(x) for x in line.split()])\n",
    "traj=np.array(traj)\n",
    "                                                                                                                                                                                   \n",
    "print('shape of input array =',traj.shape)"
   ]
  },
  {
   "cell_type": "code",
   "execution_count": 5,
   "metadata": {
    "collapsed": true
   },
   "outputs": [],
   "source": [
    "maxknn=496\n",
    "from scipy.spatial import distance\n",
    "from scipy.spatial import cKDTree\n",
    "\n",
    "tree=cKDTree(traj)\n",
    "dmat,Nlist=tree.query(traj,k=maxknn+1,n_jobs=-1)\n",
    "\n",
    "Nlist=Nlist[:,1:]\n",
    "dmat=dmat[:,1:]\n",
    "Nlist+=1"
   ]
  },
  {
   "cell_type": "code",
   "execution_count": 20,
   "metadata": {},
   "outputs": [
    {
     "data": {
      "text/plain": [
       "array([[ 0.42873531,  0.43878887,  0.448116  , ...,  0.83514329,\n",
       "         0.83518427,  0.83562228],\n",
       "       [ 0.34576518,  0.41605025,  0.43449768, ...,  0.71045077,\n",
       "         0.71090642,  0.71091057],\n",
       "       [ 0.46370058,  0.53348637,  0.53520457, ...,  0.88748358,\n",
       "         0.88767014,  0.88773194],\n",
       "       ..., \n",
       "       [ 4.38230363,  5.39942987,  5.45670315, ...,  7.71604142,\n",
       "         7.71617068,  7.71637178],\n",
       "       [ 1.15460101,  1.22124202,  1.37103762, ...,  4.90043681,\n",
       "         4.90045605,  4.90127512],\n",
       "       [ 0.9246755 ,  1.01055537,  1.63086413, ...,  3.97642515,\n",
       "         3.9765274 ,  3.97687673]])"
      ]
     },
     "execution_count": 20,
     "metadata": {},
     "output_type": "execute_result"
    }
   ],
   "source": [
    "dmat"
   ]
  },
  {
   "cell_type": "code",
   "execution_count": 21,
   "metadata": {},
   "outputs": [
    {
     "data": {
      "text/plain": [
       "array([[ 307, 4746,   53, ..., 2249, 2746,  830],\n",
       "       [4286, 3644, 2587, ..., 2730, 1200,  853],\n",
       "       [ 663,  305,  680, ..., 1195, 4954, 1694],\n",
       "       ..., \n",
       "       [3656, 4546, 4446, ..., 2273, 2913, 2207],\n",
       "       [5081, 5077, 4224, ..., 2608, 2566, 2372],\n",
       "       [4538, 4376, 4852, ..., 4027, 4943, 2125]], dtype=int32)"
      ]
     },
     "execution_count": 21,
     "metadata": {},
     "output_type": "execute_result"
    }
   ],
   "source": [
    "Nlist"
   ]
  },
  {
   "cell_type": "code",
   "execution_count": 6,
   "metadata": {},
   "outputs": [
    {
     "name": "stdout",
     "output_type": "stream",
     "text": [
      "dmat computed\n"
     ]
    }
   ],
   "source": [
    "print('dmat computed')\n",
    "Npoints=traj.shape[0]"
   ]
  },
  {
   "cell_type": "code",
   "execution_count": 7,
   "metadata": {
    "collapsed": true
   },
   "outputs": [],
   "source": [
    "rho=np.zeros(Npoints)\n",
    "rho_err=np.zeros(Npoints)\n",
    "#   filter value for each frame in trj_sub (either 0 or 1) \n",
    "filt=np.zeros(Npoints,dtype=np.int32)\n",
    "#   error flag                                                                                                                     \n",
    "id_err=np.array(0,dtype=np.int32)\n",
    "#   dimension                                                                                                     \n",
    "dim=np.array(dim,dtype=np.int32)\n",
    "#   Neighbour list within dc                                                                                                     \n",
    "#Nlist=np.ones((Npoints,maxknn),dtype=np.int32,order='F')*-1                                                                                         \n",
    "Nlist=np.array(Nlist,dtype=np.int32,order='F')\n",
    "#   N. of NN taken for comp dens                                                                                                              \n",
    "Nstar=np.zeros(Npoints,dtype=np.int32)"
   ]
  },
  {
   "cell_type": "code",
   "execution_count": 19,
   "metadata": {},
   "outputs": [
    {
     "name": "stdout",
     "output_type": "stream",
     "text": [
      "fortran locknn\n",
      "Done!\n",
      "0.07510709762573242\n"
     ]
    }
   ],
   "source": [
    "# 2) call fortran subroutine\n",
    "import time\n",
    "print('fortran locknn')\n",
    "t0=time.time()\n",
    "fdp.get_densities\\\n",
    "    (id_err,dmat,dim,rho,rho_err,filt,Nlist,Nstar)\n",
    "print('Done!'),\n",
    "print(time.time()-t0)"
   ]
  },
  {
   "cell_type": "code",
   "execution_count": 9,
   "metadata": {},
   "outputs": [
    {
     "data": {
      "text/plain": [
       "array([14, 28, 25, ...,  8, 20, 20], dtype=int32)"
      ]
     },
     "execution_count": 9,
     "metadata": {},
     "output_type": "execute_result"
    }
   ],
   "source": [
    "Nstar"
   ]
  },
  {
   "cell_type": "code",
   "execution_count": 10,
   "metadata": {},
   "outputs": [],
   "source": [
    "Nstar2=np.zeros(Npoints,dtype=np.int32)"
   ]
  },
  {
   "cell_type": "code",
   "execution_count": 11,
   "metadata": {},
   "outputs": [],
   "source": [
    "prefactor=fdp.prefactor(dim)"
   ]
  },
  {
   "cell_type": "code",
   "execution_count": 12,
   "metadata": {},
   "outputs": [],
   "source": [
    "Vols=prefactor*dmat**dim"
   ]
  },
  {
   "cell_type": "code",
   "execution_count": 13,
   "metadata": {},
   "outputs": [],
   "source": [
    "fdp.get_k(id_err,Vols,dim,Nlist,Nstar2)"
   ]
  },
  {
   "cell_type": "code",
   "execution_count": 14,
   "metadata": {},
   "outputs": [
    {
     "data": {
      "text/plain": [
       "<matplotlib.collections.PathCollection at 0x1178c5e48>"
      ]
     },
     "execution_count": 14,
     "metadata": {},
     "output_type": "execute_result"
    },
    {
     "data": {
      "image/png": "[encoded data removed]",
      "text/plain": [
       "<matplotlib.figure.Figure at 0x117825208>"
      ]
     },
     "metadata": {},
     "output_type": "display_data"
    }
   ],
   "source": [
    "plt.scatter(Nstar2,Nstar)"
   ]
  },
  {
   "cell_type": "code",
   "execution_count": 15,
   "metadata": {},
   "outputs": [
    {
     "data": {
      "text/plain": [
       "False"
      ]
     },
     "execution_count": 15,
     "metadata": {},
     "output_type": "execute_result"
    }
   ],
   "source": [
    "np.allclose(Nstar2,Nstar)"
   ]
  },
  {
   "cell_type": "code",
   "execution_count": 29,
   "metadata": {},
   "outputs": [
    {
     "data": {
      "text/plain": [
       "4.32238245010376"
      ]
     },
     "execution_count": 29,
     "metadata": {},
     "output_type": "execute_result"
    }
   ],
   "source": [
    "fdp.free_energy(Nstar[0],Vols[0])"
   ]
  },
  {
   "cell_type": "code",
   "execution_count": null,
   "metadata": {
    "collapsed": true
   },
   "outputs": [],
   "source": []
  }
 ],
 "metadata": {
  "kernelspec": {
   "display_name": "Python 3",
   "language": "python",
   "name": "python3"
  },
  "language_info": {
   "codemirror_mode": {
    "name": "ipython",
    "version": 3
   },
   "file_extension": ".py",
   "mimetype": "text/x-python",
   "name": "python",
   "nbconvert_exporter": "python",
   "pygments_lexer": "ipython3",
   "version": "3.6.2"
  }
 },
 "nbformat": 4,
 "nbformat_minor": 2
}
