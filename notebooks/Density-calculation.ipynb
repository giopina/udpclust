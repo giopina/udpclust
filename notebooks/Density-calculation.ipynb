{
 "cells": [
  {
   "cell_type": "code",
   "execution_count": 1,
   "metadata": {
    "collapsed": true
   },
   "outputs": [],
   "source": [
    "import numpy as np\n",
    "import matplotlib.pyplot as plt\n",
    "%matplotlib inline"
   ]
  },
  {
   "cell_type": "code",
   "execution_count": 2,
   "metadata": {
    "collapsed": true
   },
   "outputs": [],
   "source": [
    "from udpclust.UDP_modules import dp_clustering as fdp\n",
    "from udpclust import UDPClust as dp"
   ]
  },
  {
   "cell_type": "markdown",
   "metadata": {},
   "source": [
    "    DATA/traj-d.dat 6\n",
    "    DATA/traj-t.dat 8\n",
    "    DATA/traj-4.dat 10\n",
    "    DATA/traj-5.dat 10"
   ]
  },
  {
   "cell_type": "code",
   "execution_count": 3,
   "metadata": {
    "collapsed": true
   },
   "outputs": [],
   "source": [
    "fname=\"../test/DATA/traj-4.dat\"\n",
    "dim=10"
   ]
  },
  {
   "cell_type": "code",
   "execution_count": 4,
   "metadata": {},
   "outputs": [
    {
     "name": "stdout",
     "output_type": "stream",
     "text": [
      "shape of input array = (5096, 23)\n"
     ]
    }
   ],
   "source": [
    "traj=[]\n",
    "for line in open(fname,'r'):\n",
    "    traj.append([float(x) for x in line.split()])\n",
    "traj=np.array(traj)\n",
    "                                                                                                                                                                                   \n",
    "print('shape of input array =',traj.shape)"
   ]
  },
  {
   "cell_type": "code",
   "execution_count": 5,
   "metadata": {
    "collapsed": true
   },
   "outputs": [],
   "source": [
    "maxknn=496\n",
    "from scipy.spatial import distance\n",
    "from scipy.spatial import cKDTree\n",
    "\n",
    "tree=cKDTree(traj)\n",
    "dmat,Nlist=tree.query(traj,k=maxknn+1,n_jobs=-1)\n",
    "\n",
    "Nlist=Nlist[:,1:]\n",
    "dmat=dmat[:,1:]\n",
    "Nlist+=1"
   ]
  },
  {
   "cell_type": "code",
   "execution_count": 6,
   "metadata": {},
   "outputs": [
    {
     "data": {
      "text/plain": [
       "(5096, 496)"
      ]
     },
     "execution_count": 6,
     "metadata": {},
     "output_type": "execute_result"
    }
   ],
   "source": [
    "dmat.shape"
   ]
  },
  {
   "cell_type": "code",
   "execution_count": 7,
   "metadata": {},
   "outputs": [
    {
     "data": {
      "text/plain": [
       "array([[ 307, 4746,   53, ..., 2249, 2746,  830],\n",
       "       [4286, 3644, 2587, ..., 2730, 1200,  853],\n",
       "       [ 663,  305,  680, ..., 1195, 4954, 1694],\n",
       "       ..., \n",
       "       [3656, 4546, 4446, ..., 2273, 2913, 2207],\n",
       "       [5081, 5077, 4224, ..., 2608, 2566, 2372],\n",
       "       [4538, 4376, 4852, ..., 4027, 4943, 2125]])"
      ]
     },
     "execution_count": 7,
     "metadata": {},
     "output_type": "execute_result"
    }
   ],
   "source": [
    "Nlist"
   ]
  },
  {
   "cell_type": "code",
   "execution_count": 8,
   "metadata": {},
   "outputs": [
    {
     "name": "stdout",
     "output_type": "stream",
     "text": [
      "dmat computed\n"
     ]
    }
   ],
   "source": [
    "print('dmat computed')\n",
    "Npoints=traj.shape[0]"
   ]
  },
  {
   "cell_type": "code",
   "execution_count": 9,
   "metadata": {
    "collapsed": true
   },
   "outputs": [],
   "source": [
    "rho=np.zeros(Npoints)\n",
    "rho_err=np.zeros(Npoints)\n",
    "#   filter value for each frame in trj_sub (either 0 or 1) \n",
    "filt=np.zeros(Npoints,dtype=np.int32)\n",
    "#   error flag                                                                                                                     \n",
    "id_err=np.array(0,dtype=np.int32)\n",
    "#   dimension                                                                                                     \n",
    "dim=np.array(dim,dtype=np.int32)\n",
    "#   Neighbour list within dc                                                                                                     \n",
    "#Nlist=np.ones((Npoints,maxknn),dtype=np.int32,order='F')*-1                                                                                         \n",
    "Nlist=np.array(Nlist,dtype=np.int32,order='F')\n",
    "#   N. of NN taken for comp dens                                                                                                              \n",
    "Nstar=np.zeros(Npoints,dtype=np.int32)"
   ]
  },
  {
   "cell_type": "code",
   "execution_count": 15,
   "metadata": {},
   "outputs": [
    {
     "name": "stdout",
     "output_type": "stream",
     "text": [
      "fortran locknn\n",
      "Done!\n",
      "0.06341671943664551\n"
     ]
    }
   ],
   "source": [
    "# 2) call fortran subroutine\n",
    "import time\n",
    "print('fortran locknn')\n",
    "t0=time.time()\n",
    "fdp.get_densities\\\n",
    "    (id_err,dmat,dim,rho,rho_err,filt,Nlist,Nstar)\n",
    "print('Done!'),\n",
    "print(time.time()-t0)"
   ]
  },
  {
   "cell_type": "code",
   "execution_count": 11,
   "metadata": {
    "collapsed": true
   },
   "outputs": [],
   "source": [
    "Nstar=np.zeros(Npoints,dtype=np.int32)"
   ]
  },
  {
   "cell_type": "code",
   "execution_count": 18,
   "metadata": {},
   "outputs": [
    {
     "name": "stdout",
     "output_type": "stream",
     "text": [
      "0.00010085105895996094\n",
      "0.2965428829193115\n",
      "Done!\n",
      "0.7244622707366943\n"
     ]
    }
   ],
   "source": [
    "t0=time.time()\n",
    "prefactor=fdp.prefactor(dim)\n",
    "print(time.time()-t0)\n",
    "Vols=prefactor*dmat**dim\n",
    "print(time.time()-t0)\n",
    "fdp.get_k(id_err,Vols,dim,Nlist,Nstar)\n",
    "for i in range(Npoints):\n",
    "    fdp.free_energy(Nstar[i],Vols[i])\n",
    "print('Done!'),\n",
    "print(time.time()-t0)"
   ]
  },
  {
   "cell_type": "code",
   "execution_count": 13,
   "metadata": {},
   "outputs": [
    {
     "data": {
      "text/plain": [
       "8.213429824789426"
      ]
     },
     "execution_count": 13,
     "metadata": {},
     "output_type": "execute_result"
    }
   ],
   "source": [
    "fdp.free_energy(Nstar[0],Vols[0])"
   ]
  },
  {
   "cell_type": "code",
   "execution_count": 19,
   "metadata": {},
   "outputs": [
    {
     "name": "stdout",
     "output_type": "stream",
     "text": [
      "Done!\n",
      "0.4372575283050537\n"
     ]
    }
   ],
   "source": [
    "t0=time.time()\n",
    "fdp.get_dens(id_err,dmat,dim,rho,rho_err,filt,Nlist,Nstar)\n",
    "print('Done!'),\n",
    "print(time.time()-t0)"
   ]
  },
  {
   "cell_type": "code",
   "execution_count": null,
   "metadata": {
    "collapsed": true
   },
   "outputs": [],
   "source": []
  }
 ],
 "metadata": {
  "kernelspec": {
   "display_name": "Python 3",
   "language": "python",
   "name": "python3"
  },
  "language_info": {
   "codemirror_mode": {
    "name": "ipython",
    "version": 3
   },
   "file_extension": ".py",
   "mimetype": "text/x-python",
   "name": "python",
   "nbconvert_exporter": "python",
   "pygments_lexer": "ipython3",
   "version": "3.6.2"
  }
 },
 "nbformat": 4,
 "nbformat_minor": 2
}
